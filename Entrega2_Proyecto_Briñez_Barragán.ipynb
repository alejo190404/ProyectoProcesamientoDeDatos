{
  "nbformat": 4,
  "nbformat_minor": 0,
  "metadata": {
    "colab": {
      "provenance": [],
      "authorship_tag": "ABX9TyPuiTn0SJYZvHnmnX/XHNjQ",
      "include_colab_link": true
    },
    "kernelspec": {
      "name": "python3",
      "display_name": "Python 3"
    },
    "language_info": {
      "name": "python"
    }
  },
  "cells": [
    {
      "cell_type": "markdown",
      "metadata": {
        "id": "view-in-github",
        "colab_type": "text"
      },
      "source": [
        "<a href=\"https://colab.research.google.com/github/alejo190404/ProyectoProcesamientoDeDatos/blob/main/Entrega2_Proyecto_Bri%C3%B1ez_Barrag%C3%A1n.ipynb\" target=\"_parent\"><img src=\"https://colab.research.google.com/assets/colab-badge.svg\" alt=\"Open In Colab\"/></a>"
      ]
    },
    {
      "cell_type": "markdown",
      "source": [
        "#Entrega Proyecto Final Procesamiento de Datos a Gran Escala\n",
        "#Pontificia Universidad Javeriana\n",
        "#John Corredor\n",
        "#Juan Felipe Briñez y Alejandro Barragán\n",
        "#11/Noviembre/2023\n",
        "\n",
        "\n",
        "\n"
      ],
      "metadata": {
        "id": "TyfNmmbbAx0p"
      }
    },
    {
      "cell_type": "markdown",
      "source": [
        "**Objetivo:** Aplicar técnicas de ML a conjuntos de datos abiertos para comprender problemas y responder preguntas de negocio"
      ],
      "metadata": {
        "id": "C-WkW7S7BYt8"
      }
    },
    {
      "cell_type": "code",
      "execution_count": null,
      "metadata": {
        "id": "0UWvAHKCAOEa"
      },
      "outputs": [],
      "source": [
        "#Importar librerías"
      ]
    }
  ]
}